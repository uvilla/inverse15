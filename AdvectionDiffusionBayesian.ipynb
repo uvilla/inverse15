{
 "metadata": {
  "name": ""
 },
 "nbformat": 3,
 "nbformat_minor": 0,
 "worksheets": [
  {
   "cells": [
    {
     "cell_type": "markdown",
     "metadata": {},
     "source": [
      "$\n",
      "\\def\\D{\\mathcal{D}}\n",
      "\\def\\ipar{m}\n",
      "\\def\\R{\\mathbb{R}}\n",
      "\\def\\del{\\partial}\n",
      "\\def\\vec{\\bf}\n",
      "\\def\\priorm{\\mu_0}\n",
      "\\def\\C{\\mathcal{C}}\n",
      "\\def\\Acal{\\mathcal{A}}\n",
      "\\def\\postm{\\mu_{\\rm{post}}}\n",
      "\\def\\iparpost{\\ipar_\\text{post}}\n",
      "\\def\\obs{\\vec{d}} \n",
      "\\def\\yobs{\\obs^{\\text{obs}}}\n",
      "\\def\\obsop{\\mathcal{B}}\n",
      "\\def\\dd{\\vec{\\bar{d}}}\n",
      "\\def\\iFF{\\mathcal{F}}\n",
      "\\def\\iFFadj{\\mathcal{F}^*}\n",
      "\\def\\ncov{\\Gamma_{\\mathrm{noise}}}\n",
      "$\n",
      "#Example: Bayesian initial condition inversion in an advection-diffusion problem \n",
      "\n",
      "In this example we tackle the problem of quantifying the uncertainty in the solution of an inverse problem governed by a parabolic PDE via the Bayesian inference framework. The underlying PDE is a time-dependent advection-diffusion equation in which we seek to infer an unknown initial condition from spatio-temporal point measurements.\n",
      "\n",
      "### The Bayesian inverse problem:\n",
      "\n",
      "Following the Bayesian framework, we utilize \n",
      "a Gaussian prior measure $\\priorm = \\mathcal{N}(\\ipar_0,\\C_0)$,\n",
      "with $\\C_0=\\Acal^{-2}$ where $\\Acal$ is an elliptic differential operator as \n",
      "described in the PoissonBayesian example, and use an additive\n",
      "Gaussian noise model. Therefore, the solution of the Bayesian inverse\n",
      "problem is the posterior measure, $\\postm = \\mathcal{N}(\\iparpost,\\C_\\text{post})$ with\n",
      "$\\iparpost$ and $\\C_\\text{post}$.\n",
      "\n",
      "- The posterior mean $\\iparpost$ is characterized as the minimizer of\n",
      "\n",
      "$$\n",
      "\\begin{aligned}\n",
      "& \\mathcal{J}(\\ipar) :=\n",
      "  \\frac{1}{2} \\left\\| \\mathcal{B}u(\\ipar) -\\obs  \\right\\|^2_{\\ncov^{-1}}\n",
      "  + \\frac 12 \\left\\| \\Acal(\\ipar - \\ipar_0 \\right)\\|^2_{L^2(\\D)},\n",
      "\\end{aligned}\n",
      "$$\n",
      "\n",
      "which can also be interpreted as the regularized functional to be\n",
      "minimized in deterministic inversion. The observation operator $\\mathcal{B}$ extracts the values of the forward solution $u$ on a set of\n",
      "locations $\\{\\vec{x}_1, \\ldots, \\vec{x}_n\\} \\subset \\D$ at\n",
      "times $\\{t_1, \\ldots, t_N\\} \\subset [0, T]$.\n",
      "\n",
      "- The posterior covariance $\\C_{\\text{post}}$ is the inverse of the Hessian of $\\mathcal{J}(\\ipar)$, i.e.,\n",
      "\n",
      "$$\n",
      "\\C_{\\text{post}} = (\\iFFadj \\ncov^{-1} \\iFF + \\C_0^{-1})^{-1}.\n",
      "$$\n",
      "\n",
      "\n",
      "### The forward problem:\n",
      "\n",
      "The PDE in the parameter-to-observable map $\\iFF$ models diffusive transport\n",
      "in a domain $\\D \\subset \\R^d$ ($d \\in \\{2, 3\\}$):\n",
      "\n",
      "$$\n",
      "\\begin{split}\n",
      "u_t - \\kappa\\Delta u + \\bf{v} \\cdot \\nabla u &= 0     & \\quad \\text{in } \\D\\times(0,T),\\\\\n",
      "                                 u(\\cdot, 0) &= \\ipar & \\quad \\text{in } \\D,\\\\\n",
      "                \\kappa \\nabla u\\cdot \\vec{n} &= 0     & \\quad \\text{on } \\partial\\D \\times (0,T).\n",
      "\\end{split}\n",
      "$$\n",
      "\n",
      "Here, $\\kappa > 0$ is the diffusion coefficient and $T > 0$ is the final\n",
      "time. The velocity field\n",
      "$\\vec{v}$ is computed by solving the following steady-state\n",
      "Navier-Stokes equation with the side walls driving the flow:\n",
      "\n",
      "$$\n",
      "\\begin{aligned}\n",
      "- \\frac{1}{\\operatorname{Re}} \\Delta \\bf{v} + \\nabla q + \\bf{v} \\cdot \\nabla \\bf{v} &= 0 &\\quad&\\text{ in }\\D,\\\\\n",
      "\\nabla \\cdot \\bf{v} &= 0 &&\\text{ in }\\D,\\\\\n",
      "\\bf{v} &= \\bf{g} &&\\text{ on } \\partial\\D.\n",
      "\\end{aligned}\n",
      "$$\n",
      "\n",
      "Here, $q$ is pressure, $\\text{Re}$ is the Reynolds number. The Dirichlet boundary data\n",
      "$\\vec{g} \\in \\R^d$ is given by \n",
      "$\\vec{g} = \\vec{e}_2$ on the left wall of the domain, \n",
      "$\\vec{g}=-\\vec{e}_2$ on the right wall,  and $\\vec{g} = \\vec{0}$ everywhere else.\n",
      "\n",
      "### The adjoint problem:\n",
      "\n",
      "$$\n",
      "\\begin{aligned}\n",
      "-p_t - \\nabla \\cdot (p \\vec{v}) - \\kappa \\Delta p  &= -\\obsop^* (\\obsop u - \\obs) & \\quad &\\text{ in } \\D\\times (0,T),\\\\\n",
      "                                      p(\\cdot, T) &= 0             &       &\\text{ in } \\D,\\\\ \n",
      "(\\vec{v}p+\\kappa\\nabla p)\\cdot \\vec{n}            &= 0             &       &\\text{ on } \\partial\\D\\times (0,T).\n",
      "\\end{aligned}\n",
      "$$"
     ]
    },
    {
     "cell_type": "code",
     "collapsed": false,
     "input": [
      "import dolfin as dl\n",
      "import sys\n",
      "sys.path.append( \"../\" )\n",
      "from hippylib import *\n",
      "import numpy as np\n",
      "import matplotlib.pyplot as plt\n",
      "%matplotlib inline\n",
      "sys.path.append( \"../applications/ad_diff/\" )\n",
      "from model_gls import TimeDependentAD\n",
      "\n",
      "import nb\n",
      "\n",
      "import logging\n",
      "logging.getLogger('FFC').setLevel(logging.WARNING)\n",
      "logging.getLogger('UFL').setLevel(logging.WARNING)\n",
      "dl.set_log_active(False)\n",
      "\n",
      "np.random.seed(1)"
     ],
     "language": "python",
     "metadata": {},
     "outputs": []
    },
    {
     "cell_type": "markdown",
     "metadata": {},
     "source": [
      "##Construction of the velocity field"
     ]
    },
    {
     "cell_type": "code",
     "collapsed": false,
     "input": [
      "def v_boundary(x,on_boundary):\n",
      "    return on_boundary\n",
      "\n",
      "def q_boundary(x,on_boundary):\n",
      "    return x[0] < dl.DOLFIN_EPS and x[1] < dl.DOLFIN_EPS\n",
      "        \n",
      "def computeVelocityField(mesh):\n",
      "    Xh = dl.VectorFunctionSpace(mesh,'Lagrange', 2)\n",
      "    Wh = dl.FunctionSpace(mesh, 'Lagrange', 1)\n",
      "    XW = dl.MixedFunctionSpace([Xh, Wh])\n",
      "\n",
      "    Re = 1e2\n",
      "    \n",
      "    g = dl.Expression(('0.0','(x[0] < 1e-14) - (x[0] > 1 - 1e-14)'))\n",
      "    bc1 = dl.DirichletBC(XW.sub(0), g, v_boundary)\n",
      "    bc2 = dl.DirichletBC(XW.sub(1), dl.Constant(0), q_boundary, 'pointwise')\n",
      "    bcs = [bc1, bc2]\n",
      "    \n",
      "    vq = dl.Function(XW)\n",
      "    (v,q) = dl.split(vq)\n",
      "    (v_test, q_test) = dl.TestFunctions (XW)\n",
      "    \n",
      "    def strain(v):\n",
      "        return dl.sym(dl.nabla_grad(v))\n",
      "    \n",
      "    F = ( (2./Re)*dl.inner(strain(v),strain(v_test))+ dl.inner (dl.nabla_grad(v)*v, v_test)\n",
      "           - (q * dl.div(v_test)) + ( dl.div(v) * q_test) ) * dl.dx\n",
      "           \n",
      "    dl.solve(F == 0, vq, bcs, solver_parameters={\"newton_solver\":\n",
      "                                         {\"relative_tolerance\":1e-4, \"maximum_iterations\":100}})\n",
      "    \n",
      "    plt.figure(figsize=(15,5))\n",
      "    vh = dl.project(v,Xh)\n",
      "    qh = dl.project(q,Wh)\n",
      "    nb.plot(nb.coarsen_v(vh), subplot_loc=121,mytitle=\"Velocity\")\n",
      "    nb.plot(qh, subplot_loc=122,mytitle=\"Pressure\")\n",
      "    plt.show()\n",
      "        \n",
      "    return v"
     ],
     "language": "python",
     "metadata": {},
     "outputs": []
    },
    {
     "cell_type": "markdown",
     "metadata": {},
     "source": [
      "##Set up the mesh and finite element spaces"
     ]
    },
    {
     "cell_type": "code",
     "collapsed": false,
     "input": [
      "mesh = dl.refine( dl.Mesh(\"ad_20.xml\") )\n",
      "wind_velocity = computeVelocityField(mesh)\n",
      "Vh = dl.FunctionSpace(mesh, \"Lagrange\", 1)\n",
      "print \"Number of dofs: {0}\".format( Vh.dim() )"
     ],
     "language": "python",
     "metadata": {},
     "outputs": []
    },
    {
     "cell_type": "markdown",
     "metadata": {},
     "source": [
      "## Set up model (prior, true/proposed initial condition)"
     ]
    },
    {
     "cell_type": "code",
     "collapsed": false,
     "input": [
      "#gamma = 1\n",
      "#delta = 10\n",
      "#prior = LaplacianPrior(Vh, gamma, delta)\n",
      "\n",
      "gamma = 1\n",
      "delta = 8\n",
      "prior = BiLaplacianPrior(Vh, gamma, delta)\n",
      "\n",
      "prior.mean = dl.interpolate(dl.Expression('0.5'), Vh).vector()\n",
      "true_initial_condition = dl.interpolate(dl.Expression('min(0.5,exp(-100*(pow(x[0]-0.35,2) +  pow(x[1]-0.7,2))))'), Vh).vector()\n",
      "problem = TimeDependentAD(mesh, [Vh,Vh,Vh], 0., 4., 1., .2, wind_velocity, True, prior)\n",
      "\n",
      "objs = [dl.Function(Vh,true_initial_condition),\n",
      "        dl.Function(Vh,prior.mean)]\n",
      "mytitles = [\"True Initial Condition\", \"Prior mean\"]\n",
      "nb.multi1_plot(objs, mytitles)\n",
      "plt.show()"
     ],
     "language": "python",
     "metadata": {},
     "outputs": []
    },
    {
     "cell_type": "markdown",
     "metadata": {},
     "source": [
      "## Generate the synthetic observations"
     ]
    },
    {
     "cell_type": "code",
     "collapsed": false,
     "input": [
      "rel_noise = 0.001\n",
      "utrue = problem.generate_vector(STATE)\n",
      "x = [utrue, true_initial_condition, None]\n",
      "problem.solveFwd(x[STATE], x, 1e-9)\n",
      "MAX = utrue.norm(\"linf\", \"linf\")\n",
      "noise_std_dev = rel_noise * MAX\n",
      "problem.ud.copy(utrue)\n",
      "problem.ud.randn_perturb(noise_std_dev)\n",
      "problem.noise_variance = noise_std_dev*noise_std_dev\n",
      "\n",
      "nb.show_solution(Vh, true_initial_condition, utrue, \"Solution\")"
     ],
     "language": "python",
     "metadata": {},
     "outputs": []
    },
    {
     "cell_type": "markdown",
     "metadata": {},
     "source": [
      "##Test the gradient and the Hessian of the cost (negative log posterior)"
     ]
    },
    {
     "cell_type": "code",
     "collapsed": false,
     "input": [
      "a0 = true_initial_condition.copy()\n",
      "modelVerify(problem, a0, 1e-4, 1e-4)"
     ],
     "language": "python",
     "metadata": {},
     "outputs": []
    },
    {
     "cell_type": "markdown",
     "metadata": {},
     "source": [
      "##Evaluate the gradient and apply the Hessian to a vector"
     ]
    },
    {
     "cell_type": "code",
     "collapsed": false,
     "input": [
      "[u,a,p] = problem.generate_vector()\n",
      "problem.solveFwd(u, [u,a,p], 1e-12)\n",
      "problem.solveAdj(p, [u,a,p], 1e-12)\n",
      "mg = problem.generate_vector(PARAMETER)\n",
      "grad_norm = problem.evalGradientParameter([u,a,p], mg)\n",
      "        \n",
      "print \"(g,g) = \", grad_norm\n",
      "    \n",
      "H = ReducedHessian(problem, 1e-12, gauss_newton_approx=False, misfit_only=True) "
     ],
     "language": "python",
     "metadata": {},
     "outputs": []
    },
    {
     "cell_type": "markdown",
     "metadata": {},
     "source": [
      "## The Gaussian approximation of the posterior"
     ]
    },
    {
     "cell_type": "code",
     "collapsed": false,
     "input": [
      "k = 80\n",
      "p = 20\n",
      "print \"Single Pass Algorithm. Requested eigenvectors: {0}; Oversampling {1}.\".format(k,p)\n",
      "Omega = np.random.randn(a.array().shape[0], k+p)\n",
      "d, U = singlePassG(H, prior.R, prior.Rsolver, Omega, k)\n",
      "#d, U = singlePass(H, Omega, k)\n",
      "\n",
      "posterior = GaussianLRPosterior( prior, d, U )\n",
      "\n",
      "plt.plot(range(0,k), d, 'b*', range(0,k+1), np.ones(k+1), '-r')\n",
      "plt.yscale('log')\n",
      "plt.xlabel('number')\n",
      "plt.ylabel('eigenvalue')\n",
      "\n",
      "nb.plot_eigenvectors(Vh, U, mytitle=\"Eigenvector\", which=[0,1,2,5,10,20,30,45,60])"
     ],
     "language": "python",
     "metadata": {},
     "outputs": []
    },
    {
     "cell_type": "markdown",
     "metadata": {},
     "source": [
      "##Compute the MAP point"
     ]
    },
    {
     "cell_type": "code",
     "collapsed": false,
     "input": [
      "H.misfit_only = False\n",
      "        \n",
      "solver = CGSolverSteihaug()\n",
      "solver.set_operator(H)\n",
      "solver.set_preconditioner( posterior.Hlr )\n",
      "solver.parameters[\"print_level\"] = 1\n",
      "solver.parameters[\"rel_tolerance\"] = 1e-6\n",
      "solver.solve(a, -mg)\n",
      "problem.solveFwd(u, [u,a,p], 1e-12)\n",
      " \n",
      "total_cost, reg_cost, misfit_cost = problem.cost([u,a,p])\n",
      "print \"Total cost {0:5g}; Reg Cost {1:5g}; Misfit {2:5g}\".format(total_cost, reg_cost, misfit_cost)\n",
      "    \n",
      "posterior.mean = a\n",
      "\n",
      "plt.figure(figsize=(7.5,5))\n",
      "nb.plot(dl.Function(Vh, a), mytitle=\"Initial Condition\")\n",
      "plt.show()\n",
      "\n",
      "nb.show_solution(Vh, a, u, \"Solution\")"
     ],
     "language": "python",
     "metadata": {},
     "outputs": []
    },
    {
     "cell_type": "markdown",
     "metadata": {},
     "source": [
      "## Prior and posterior pointwise variance fields"
     ]
    },
    {
     "cell_type": "code",
     "collapsed": false,
     "input": [
      "compute_trace = False\n",
      "if compute_trace:\n",
      "    post_tr, prior_tr, corr_tr = posterior.trace()\n",
      "    print \"Posterior trace {0:5g}; Prior trace {1:5g}; Correction trace {2:5g}\".format(post_tr, prior_tr, corr_tr)\n",
      "post_pw_variance, pr_pw_variance, corr_pw_variance = posterior.pointwise_variance()\n",
      "\n",
      "objs = [dl.Function(Vh, pr_pw_variance),\n",
      "        dl.Function(Vh, post_pw_variance)]\n",
      "mytitles = [\"Prior Variance\", \"Posterior Variance\"]\n",
      "nb.multi1_plot(objs, mytitles, logscale=True)\n",
      "plt.show()"
     ],
     "language": "python",
     "metadata": {},
     "outputs": []
    },
    {
     "cell_type": "markdown",
     "metadata": {},
     "source": [
      "## Draw samples from the prior and posterior distributions"
     ]
    },
    {
     "cell_type": "code",
     "collapsed": false,
     "input": [
      "nsamples = 5\n",
      "noise = dl.Vector()\n",
      "posterior.init_vector(noise,\"noise\")\n",
      "noise_size = noise.array().shape[0]\n",
      "s_prior = dl.Function(Vh, name=\"sample_prior\")\n",
      "s_post = dl.Function(Vh, name=\"sample_post\")\n",
      "\n",
      "pr_max =  2.5*math.sqrt( pr_pw_variance.max() ) + prior.mean.max()\n",
      "pr_min = -2.5*math.sqrt( pr_pw_variance.min() ) + prior.mean.min()\n",
      "ps_max =  2.5*math.sqrt( post_pw_variance.max() ) + posterior.mean.max()\n",
      "ps_min = -2.5*math.sqrt( post_pw_variance.max() ) + posterior.mean.min()\n",
      "\n",
      "for i in range(nsamples):\n",
      "    noise.set_local( np.random.randn( noise_size ) )\n",
      "    posterior.sample(noise, s_prior.vector(), s_post.vector())\n",
      "    plt.figure(figsize=(15,5))\n",
      "    nb.plot(s_prior, subplot_loc=121,mytitle=\"Prior sample\", vmin=pr_min, vmax=pr_max)\n",
      "    nb.plot(s_post, subplot_loc=122,mytitle=\"Posterior sample\", vmin=ps_min, vmax=ps_max)\n",
      "    plt.show()"
     ],
     "language": "python",
     "metadata": {},
     "outputs": []
    }
   ],
   "metadata": {}
  }
 ]
}